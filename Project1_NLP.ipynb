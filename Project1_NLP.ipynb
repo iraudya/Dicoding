{
  "nbformat": 4,
  "nbformat_minor": 0,
  "metadata": {
    "colab": {
      "name": "Project1-NLP.ipynb",
      "provenance": [],
      "collapsed_sections": [],
      "toc_visible": true
    },
    "kernelspec": {
      "name": "python3",
      "display_name": "Python 3"
    },
    "language_info": {
      "name": "python"
    },
    "accelerator": "GPU"
  },
  "cells": [
    {
      "cell_type": "markdown",
      "metadata": {
        "id": "R5oab9H_Dyk9"
      },
      "source": [
        "# Profile & Project Details \n",
        "\n"
      ]
    },
    {
      "cell_type": "markdown",
      "metadata": {
        "id": "N8X-SXkzEDyu"
      },
      "source": [
        "\n",
        "\n",
        "1.   Name: Iva Raudyatuzzahra\n",
        "2.   Email: ivaraudya@gmail.com\n",
        "3.   Project: News Category Classification\n",
        "4.   Dataset: https://www.kaggle.com/rmisra/news-category-dataset\n",
        "\n"
      ]
    },
    {
      "cell_type": "markdown",
      "metadata": {
        "id": "CP99BnK9EIB0"
      },
      "source": [
        "# Data Preparation"
      ]
    },
    {
      "cell_type": "markdown",
      "metadata": {
        "id": "S9mPRWLRY-jJ"
      },
      "source": [
        "Mounting google drive"
      ]
    },
    {
      "cell_type": "code",
      "metadata": {
        "colab": {
          "base_uri": "https://localhost:8080/"
        },
        "id": "4Rn2CAf_AZAl",
        "outputId": "7edfc8e3-06d9-4769-9e57-aef8726c4660"
      },
      "source": [
        "from google.colab import drive\n",
        "drive.mount('/content/drive')"
      ],
      "execution_count": 4,
      "outputs": [
        {
          "output_type": "stream",
          "text": [
            "Mounted at /content/drive\n"
          ],
          "name": "stdout"
        }
      ]
    },
    {
      "cell_type": "markdown",
      "metadata": {
        "id": "337dj6DgZGLw"
      },
      "source": [
        "File loading"
      ]
    },
    {
      "cell_type": "code",
      "metadata": {
        "id": "1LvO-yDX4X2R"
      },
      "source": [
        "import zipfile\n",
        "\n",
        "file_zip = '/content/drive/MyDrive/Datasets/news.zip'\n",
        "zip_extract = zipfile.ZipFile(file_zip, 'r')\n",
        "zip_extract.extractall('/content/news_data')\n",
        "zip_extract.close()"
      ],
      "execution_count": 5,
      "outputs": []
    },
    {
      "cell_type": "markdown",
      "metadata": {
        "id": "Ehj7DZbTZQ4o"
      },
      "source": [
        "Removing unecessary columns"
      ]
    },
    {
      "cell_type": "code",
      "metadata": {
        "colab": {
          "base_uri": "https://localhost:8080/"
        },
        "id": "S94VuQag_cF_",
        "outputId": "0618e8e7-a524-4d2a-ce7e-06a8d5eb2538"
      },
      "source": [
        "import pandas as pd\n",
        "\n",
        "df = pd.read_json('/content/news_data/News_Category_Dataset_v2.json', lines=True)\n",
        "df.info()"
      ],
      "execution_count": 6,
      "outputs": [
        {
          "output_type": "stream",
          "text": [
            "<class 'pandas.core.frame.DataFrame'>\n",
            "RangeIndex: 200853 entries, 0 to 200852\n",
            "Data columns (total 6 columns):\n",
            " #   Column             Non-Null Count   Dtype         \n",
            "---  ------             --------------   -----         \n",
            " 0   category           200853 non-null  object        \n",
            " 1   headline           200853 non-null  object        \n",
            " 2   authors            200853 non-null  object        \n",
            " 3   link               200853 non-null  object        \n",
            " 4   short_description  200853 non-null  object        \n",
            " 5   date               200853 non-null  datetime64[ns]\n",
            "dtypes: datetime64[ns](1), object(5)\n",
            "memory usage: 9.2+ MB\n"
          ],
          "name": "stdout"
        }
      ]
    },
    {
      "cell_type": "code",
      "metadata": {
        "colab": {
          "base_uri": "https://localhost:8080/",
          "height": 80
        },
        "id": "5eXg3mgovcUA",
        "outputId": "6e3c3c7d-a50d-4d43-acc9-381bfa4cbc72"
      },
      "source": [
        "df.drop(['authors', 'link', 'short_description', 'date'], axis=1, inplace=True)\n",
        "df.sample()"
      ],
      "execution_count": 7,
      "outputs": [
        {
          "output_type": "execute_result",
          "data": {
            "text/html": [
              "<div>\n",
              "<style scoped>\n",
              "    .dataframe tbody tr th:only-of-type {\n",
              "        vertical-align: middle;\n",
              "    }\n",
              "\n",
              "    .dataframe tbody tr th {\n",
              "        vertical-align: top;\n",
              "    }\n",
              "\n",
              "    .dataframe thead th {\n",
              "        text-align: right;\n",
              "    }\n",
              "</style>\n",
              "<table border=\"1\" class=\"dataframe\">\n",
              "  <thead>\n",
              "    <tr style=\"text-align: right;\">\n",
              "      <th></th>\n",
              "      <th>category</th>\n",
              "      <th>headline</th>\n",
              "    </tr>\n",
              "  </thead>\n",
              "  <tbody>\n",
              "    <tr>\n",
              "      <th>172477</th>\n",
              "      <td>WELLNESS</td>\n",
              "      <td>How To Eat For Your Age</td>\n",
              "    </tr>\n",
              "  </tbody>\n",
              "</table>\n",
              "</div>"
            ],
            "text/plain": [
              "        category                 headline\n",
              "172477  WELLNESS  How To Eat For Your Age"
            ]
          },
          "metadata": {
            "tags": []
          },
          "execution_count": 7
        }
      ]
    },
    {
      "cell_type": "markdown",
      "metadata": {
        "id": "rtwODlZYZeCw"
      },
      "source": [
        "Removing unecessary categories"
      ]
    },
    {
      "cell_type": "code",
      "metadata": {
        "colab": {
          "base_uri": "https://localhost:8080/"
        },
        "id": "hbJCOG6evwOG",
        "outputId": "9d3eb14a-763a-46e6-e135-06639eff442c"
      },
      "source": [
        "df.category.value_counts()"
      ],
      "execution_count": 8,
      "outputs": [
        {
          "output_type": "execute_result",
          "data": {
            "text/plain": [
              "POLITICS          32739\n",
              "WELLNESS          17827\n",
              "ENTERTAINMENT     16058\n",
              "TRAVEL             9887\n",
              "STYLE & BEAUTY     9649\n",
              "PARENTING          8677\n",
              "HEALTHY LIVING     6694\n",
              "QUEER VOICES       6314\n",
              "FOOD & DRINK       6226\n",
              "BUSINESS           5937\n",
              "COMEDY             5175\n",
              "SPORTS             4884\n",
              "BLACK VOICES       4528\n",
              "HOME & LIVING      4195\n",
              "PARENTS            3955\n",
              "THE WORLDPOST      3664\n",
              "WEDDINGS           3651\n",
              "WOMEN              3490\n",
              "IMPACT             3459\n",
              "DIVORCE            3426\n",
              "CRIME              3405\n",
              "MEDIA              2815\n",
              "WEIRD NEWS         2670\n",
              "GREEN              2622\n",
              "WORLDPOST          2579\n",
              "RELIGION           2556\n",
              "STYLE              2254\n",
              "SCIENCE            2178\n",
              "WORLD NEWS         2177\n",
              "TASTE              2096\n",
              "TECH               2082\n",
              "MONEY              1707\n",
              "ARTS               1509\n",
              "FIFTY              1401\n",
              "GOOD NEWS          1398\n",
              "ARTS & CULTURE     1339\n",
              "ENVIRONMENT        1323\n",
              "COLLEGE            1144\n",
              "LATINO VOICES      1129\n",
              "CULTURE & ARTS     1030\n",
              "EDUCATION          1004\n",
              "Name: category, dtype: int64"
            ]
          },
          "metadata": {
            "tags": []
          },
          "execution_count": 8
        }
      ]
    },
    {
      "cell_type": "code",
      "metadata": {
        "colab": {
          "base_uri": "https://localhost:8080/"
        },
        "id": "Q0RJqlQ-wLXO",
        "outputId": "f8f3b042-0a1e-45b8-a09f-db48a4c43454"
      },
      "source": [
        "df = df[~df['category'].isin(['POLITICS','ENTERTAINMENT','WELLNESS','TRAVEL','STYLE & BEAUTY','PARENTING','HEALTHY LIVING', \n",
        "                              'QUEER VOICES','FOOD & DRINK','COMEDY','BLACK VOICES','HOME & LIVING','PARENTS','THE WORLDPOST',\n",
        "                              'WEDDINGS','WOMEN','IMPACT','DIVORCE','MEDIA','WEIRD NEWS','GREEN','WORLDPOST','RELIGION',\n",
        "                              'STYLE','WORLD NEWS','TASTE','MONEY','ARTS','FIFTY','GOOD NEWS','ARTS & CULTURE','COLLEGE',\n",
        "                              'LATINO VOICES','CULTURE & ARTS','SCIENCE','SCIENCE','EDUCATION'])]\n",
        "df['category'].value_counts()"
      ],
      "execution_count": 9,
      "outputs": [
        {
          "output_type": "execute_result",
          "data": {
            "text/plain": [
              "BUSINESS       5937\n",
              "SPORTS         4884\n",
              "CRIME          3405\n",
              "TECH           2082\n",
              "ENVIRONMENT    1323\n",
              "Name: category, dtype: int64"
            ]
          },
          "metadata": {
            "tags": []
          },
          "execution_count": 9
        }
      ]
    },
    {
      "cell_type": "markdown",
      "metadata": {
        "id": "KCLMQXBaZ1XP"
      },
      "source": [
        "Missing Values Checking"
      ]
    },
    {
      "cell_type": "code",
      "metadata": {
        "colab": {
          "base_uri": "https://localhost:8080/"
        },
        "id": "uSoUW4AxHv_w",
        "outputId": "2d0e62e9-d1be-4a64-acad-7855c05b87bd"
      },
      "source": [
        "df.isnull().values.any()"
      ],
      "execution_count": 10,
      "outputs": [
        {
          "output_type": "execute_result",
          "data": {
            "text/plain": [
              "False"
            ]
          },
          "metadata": {
            "tags": []
          },
          "execution_count": 10
        }
      ]
    },
    {
      "cell_type": "markdown",
      "metadata": {
        "id": "0HD6kRHdxjmi"
      },
      "source": [
        "Data plotting"
      ]
    },
    {
      "cell_type": "code",
      "metadata": {
        "colab": {
          "base_uri": "https://localhost:8080/",
          "height": 345
        },
        "id": "HmwmPKU2BjUn",
        "outputId": "4ad953e3-b031-4696-be17-e220cca261ef"
      },
      "source": [
        "import matplotlib.pyplot as plt\n",
        " \n",
        "df['category'].value_counts().plot(kind='bar')\n",
        "plt.title('Number of Headline for Each Category')\n",
        "plt.show()"
      ],
      "execution_count": 11,
      "outputs": [
        {
          "output_type": "display_data",
          "data": {
            "image/png": "[encoded data removed]",
            "text/plain": [
              "<Figure size 432x288 with 1 Axes>"
            ]
          },
          "metadata": {
            "tags": [],
            "needs_background": "light"
          }
        }
      ]
    },
    {
      "cell_type": "markdown",
      "metadata": {
        "id": "ZGIonsaeEbbN"
      },
      "source": [
        "# Data Preprocessing"
      ]
    },
    {
      "cell_type": "markdown",
      "metadata": {
        "id": "kBdrrKx4aGfm"
      },
      "source": [
        "data cleaning"
      ]
    },
    {
      "cell_type": "code",
      "metadata": {
        "id": "XzfUCDWGImwW"
      },
      "source": [
        "import re\n",
        "import nltk\n",
        "from nltk.corpus import stopwords\n",
        "\n",
        "df = df.reset_index(drop=True)\n",
        "REPLACE_BY_SPACE_RE = re.compile('[/(){}\\[\\]\\|@,;]')\n",
        "BAD_SYMBOLS_RE = re.compile('[^0-9a-z #+_]')\n",
        "STOPWORDS = set(stopwords.words('english'))\n",
        "\n",
        "def clean_text(text):\n",
        "    \"\"\"\n",
        "        text: a string\n",
        "        \n",
        "        return: modified initial string\n",
        "    \"\"\"\n",
        "    text = text.lower()\n",
        "    text = REPLACE_BY_SPACE_RE.sub(' ', text) \n",
        "    text = BAD_SYMBOLS_RE.sub('', text) \n",
        "    text = text.replace('x', '')\n",
        "    text = ' '.join(word for word in text.split() if word not in STOPWORDS)\n",
        "    return text\n",
        "df['headline'] = df['headline'].apply(clean_text)\n",
        "df['headline'] = df['headline'].str.replace('\\d+', '')"
      ],
      "execution_count": 15,
      "outputs": []
    },
    {
      "cell_type": "code",
      "metadata": {
        "colab": {
          "base_uri": "https://localhost:8080/",
          "height": 204
        },
        "id": "oNVvFgtaMy6N",
        "outputId": "c71f7c05-09cd-44b6-93f2-7050c73a1c95"
      },
      "source": [
        "df.head()"
      ],
      "execution_count": 16,
      "outputs": [
        {
          "output_type": "execute_result",
          "data": {
            "text/html": [
              "<div>\n",
              "<style scoped>\n",
              "    .dataframe tbody tr th:only-of-type {\n",
              "        vertical-align: middle;\n",
              "    }\n",
              "\n",
              "    .dataframe tbody tr th {\n",
              "        vertical-align: top;\n",
              "    }\n",
              "\n",
              "    .dataframe thead th {\n",
              "        text-align: right;\n",
              "    }\n",
              "</style>\n",
              "<table border=\"1\" class=\"dataframe\">\n",
              "  <thead>\n",
              "    <tr style=\"text-align: right;\">\n",
              "      <th></th>\n",
              "      <th>category</th>\n",
              "      <th>headline</th>\n",
              "    </tr>\n",
              "  </thead>\n",
              "  <tbody>\n",
              "    <tr>\n",
              "      <th>0</th>\n",
              "      <td>CRIME</td>\n",
              "      <td>mass shootings teas last week  tv</td>\n",
              "    </tr>\n",
              "    <tr>\n",
              "      <th>1</th>\n",
              "      <td>CRIME</td>\n",
              "      <td>rachel dolezal faces felony charges welfare fraud</td>\n",
              "    </tr>\n",
              "    <tr>\n",
              "      <th>2</th>\n",
              "      <td>CRIME</td>\n",
              "      <td>man faces charges pulling knife stun gun musli...</td>\n",
              "    </tr>\n",
              "    <tr>\n",
              "      <th>3</th>\n",
              "      <td>CRIME</td>\n",
              "      <td>people injured indiana school shooting</td>\n",
              "    </tr>\n",
              "    <tr>\n",
              "      <th>4</th>\n",
              "      <td>SPORTS</td>\n",
              "      <td>jets chairman christopher johnson wont fine pl...</td>\n",
              "    </tr>\n",
              "  </tbody>\n",
              "</table>\n",
              "</div>"
            ],
            "text/plain": [
              "  category                                           headline\n",
              "0    CRIME                  mass shootings teas last week  tv\n",
              "1    CRIME  rachel dolezal faces felony charges welfare fraud\n",
              "2    CRIME  man faces charges pulling knife stun gun musli...\n",
              "3    CRIME             people injured indiana school shooting\n",
              "4   SPORTS  jets chairman christopher johnson wont fine pl..."
            ]
          },
          "metadata": {
            "tags": []
          },
          "execution_count": 16
        }
      ]
    },
    {
      "cell_type": "markdown",
      "metadata": {
        "id": "m2ESgJInaNao"
      },
      "source": [
        "data tokenization"
      ]
    },
    {
      "cell_type": "code",
      "metadata": {
        "colab": {
          "base_uri": "https://localhost:8080/"
        },
        "id": "hKOB5g5n8iZG",
        "outputId": "2141b4e6-4fa8-4147-ac22-ba7d02c10bef"
      },
      "source": [
        "from keras.preprocessing.text import Tokenizer\n",
        "\n",
        "max_words = 50000\n",
        "max_seq = 250\n",
        "embedding_dim = 100\n",
        "\n",
        "tokenizer = Tokenizer(num_words=max_words)\n",
        "tokenizer.fit_on_texts(df['headline'])\n",
        "word_index = tokenizer.word_index\n",
        "\n",
        "print('Found %s unique tokens.' % len(word_index))\n"
      ],
      "execution_count": 18,
      "outputs": [
        {
          "output_type": "stream",
          "text": [
            "Found 19250 unique tokens.\n"
          ],
          "name": "stdout"
        }
      ]
    },
    {
      "cell_type": "code",
      "metadata": {
        "colab": {
          "base_uri": "https://localhost:8080/"
        },
        "id": "On_4ApHL9oLF",
        "outputId": "5fe37fe8-1e7f-4ffc-f066-2b983b329ce6"
      },
      "source": [
        "from keras.preprocessing import sequence\n",
        "\n",
        "data = tokenizer.texts_to_sequences(df['headline'])\n",
        "data = sequence.pad_sequences(data, maxlen=max_seq)\n",
        "print('Shape of data tensor:', data.shape)"
      ],
      "execution_count": 20,
      "outputs": [
        {
          "output_type": "stream",
          "text": [
            "Shape of data tensor: (17631, 250)\n"
          ],
          "name": "stdout"
        }
      ]
    },
    {
      "cell_type": "code",
      "metadata": {
        "colab": {
          "base_uri": "https://localhost:8080/"
        },
        "id": "c5XyuqigR-zW",
        "outputId": "5b78599f-e335-4157-852f-c2862eb33846"
      },
      "source": [
        "label = pd.get_dummies(df['category']).values\n",
        "print('Shape of label tensor:', label.shape)"
      ],
      "execution_count": 21,
      "outputs": [
        {
          "output_type": "stream",
          "text": [
            "Shape of label tensor: (17631, 5)\n"
          ],
          "name": "stdout"
        }
      ]
    },
    {
      "cell_type": "markdown",
      "metadata": {
        "id": "Sex6IIgAaX6N"
      },
      "source": [
        "data spliting"
      ]
    },
    {
      "cell_type": "code",
      "metadata": {
        "id": "z3TPXrvi9oMw",
        "colab": {
          "base_uri": "https://localhost:8080/"
        },
        "outputId": "4df01dbd-c76a-4507-f133-9f34de59af26"
      },
      "source": [
        "from sklearn.model_selection import train_test_split\n",
        "\n",
        "data_train, data_test, label_train, label_test = train_test_split(data,label, test_size = 0.20, random_state = 42)\n",
        "print(data_train.shape,label_train.shape)\n",
        "print(data_test.shape,label_test.shape)"
      ],
      "execution_count": 22,
      "outputs": [
        {
          "output_type": "stream",
          "text": [
            "(14104, 250) (14104, 5)\n",
            "(3527, 250) (3527, 5)\n"
          ],
          "name": "stdout"
        }
      ]
    },
    {
      "cell_type": "markdown",
      "metadata": {
        "id": "DfBvSCWJBb2O"
      },
      "source": [
        "# Classification Model Building"
      ]
    },
    {
      "cell_type": "markdown",
      "metadata": {
        "id": "rQ6gosksart1"
      },
      "source": [
        "Importing library & module"
      ]
    },
    {
      "cell_type": "code",
      "metadata": {
        "id": "UFvaPex0YB6q"
      },
      "source": [
        "import tensorflow as tf\n",
        "from keras.models import Sequential\n",
        "from keras.layers import Dense\n",
        "from keras.layers import SpatialDropout1D\n",
        "from keras.layers import LSTM\n",
        "from keras.layers.embeddings import Embedding\n",
        "from keras.callbacks import EarlyStopping"
      ],
      "execution_count": 24,
      "outputs": []
    },
    {
      "cell_type": "markdown",
      "metadata": {
        "id": "N9rlMyLtbSsM"
      },
      "source": [
        "LSTM model"
      ]
    },
    {
      "cell_type": "code",
      "metadata": {
        "colab": {
          "base_uri": "https://localhost:8080/"
        },
        "id": "UhX9fqu4azaV",
        "outputId": "313608f4-f075-4a99-d7f1-8debd93ec7a9"
      },
      "source": [
        "model = Sequential()\n",
        "model.add(Embedding(max_words, embedding_dim, input_length=data.shape[1]))\n",
        "model.add(SpatialDropout1D(0.2))\n",
        "model.add(LSTM(100, dropout=0.2, recurrent_dropout=0.2))\n",
        "model.add(Dense(5, activation='softmax'))\n",
        "\n",
        "model.summary()"
      ],
      "execution_count": 31,
      "outputs": [
        {
          "output_type": "stream",
          "text": [
            "WARNING:tensorflow:Layer lstm_1 will not use cuDNN kernels since it doesn't meet the criteria. It will use a generic GPU kernel as fallback when running on GPU.\n",
            "Model: \"sequential_2\"\n",
            "_________________________________________________________________\n",
            "Layer (type)                 Output Shape              Param #   \n",
            "=================================================================\n",
            "embedding_1 (Embedding)      (None, 250, 100)          5000000   \n",
            "_________________________________________________________________\n",
            "spatial_dropout1d_1 (Spatial (None, 250, 100)          0         \n",
            "_________________________________________________________________\n",
            "lstm_1 (LSTM)                (None, 100)               80400     \n",
            "_________________________________________________________________\n",
            "dense_1 (Dense)              (None, 5)                 505       \n",
            "=================================================================\n",
            "Total params: 5,080,905\n",
            "Trainable params: 5,080,905\n",
            "Non-trainable params: 0\n",
            "_________________________________________________________________\n"
          ],
          "name": "stdout"
        }
      ]
    },
    {
      "cell_type": "markdown",
      "metadata": {
        "id": "7CJDtw0Wb1Ce"
      },
      "source": [
        "Lost function & optimizer"
      ]
    },
    {
      "cell_type": "code",
      "metadata": {
        "id": "ocQYKiSCbB3i"
      },
      "source": [
        "model.compile(loss='categorical_crossentropy', optimizer='adam', metrics=['accuracy'])"
      ],
      "execution_count": 32,
      "outputs": []
    },
    {
      "cell_type": "markdown",
      "metadata": {
        "id": "W3qCBeSecpI0"
      },
      "source": [
        "Early stopping"
      ]
    },
    {
      "cell_type": "code",
      "metadata": {
        "id": "xteASLojcuwP"
      },
      "source": [
        "class myCallback(tf.keras.callbacks.Callback):\n",
        "  def on_epoch_end(self, epoch, logs={}):\n",
        "    if(logs.get('accuracy')>0.90 and logs.get('val_accuracy')>0.90):\n",
        "      print(\"\\nValidation accuracy has reach 90%, training has been stopped.\")\n",
        "      self.model.stop_training = True\n",
        "callbacks = myCallback()"
      ],
      "execution_count": 33,
      "outputs": []
    },
    {
      "cell_type": "markdown",
      "metadata": {
        "id": "7vhAauIjdW5Y"
      },
      "source": [
        "Model training"
      ]
    },
    {
      "cell_type": "code",
      "metadata": {
        "colab": {
          "base_uri": "https://localhost:8080/"
        },
        "id": "IXU3wg6VbHEX",
        "outputId": "04873f18-d011-4145-e48d-470b7a333332"
      },
      "source": [
        "history = model.fit(data_train, label_train, \n",
        "                    epochs=5, \n",
        "                    batch_size=64,\n",
        "                    validation_split=0.2,\n",
        "                    verbose=2,\n",
        "                    callbacks= callbacks)"
      ],
      "execution_count": 34,
      "outputs": [
        {
          "output_type": "stream",
          "text": [
            "Epoch 1/5\n",
            "177/177 - 164s - loss: 1.1365 - accuracy: 0.5604 - val_loss: 0.7208 - val_accuracy: 0.7366\n",
            "Epoch 2/5\n",
            "177/177 - 160s - loss: 0.4368 - accuracy: 0.8537 - val_loss: 0.5655 - val_accuracy: 0.8047\n",
            "Epoch 3/5\n",
            "177/177 - 160s - loss: 0.1790 - accuracy: 0.9475 - val_loss: 0.6038 - val_accuracy: 0.8072\n",
            "Epoch 4/5\n",
            "177/177 - 160s - loss: 0.0777 - accuracy: 0.9775 - val_loss: 0.7099 - val_accuracy: 0.7969\n",
            "Epoch 5/5\n",
            "177/177 - 161s - loss: 0.0394 - accuracy: 0.9892 - val_loss: 0.8467 - val_accuracy: 0.7983\n"
          ],
          "name": "stdout"
        }
      ]
    },
    {
      "cell_type": "markdown",
      "metadata": {
        "id": "2_6EuZvMiB6E"
      },
      "source": [
        "Validation & Training Accurary Plotting"
      ]
    },
    {
      "cell_type": "code",
      "metadata": {
        "colab": {
          "base_uri": "https://localhost:8080/",
          "height": 298
        },
        "id": "nt-rPdnhiCWf",
        "outputId": "a01459af-697f-4821-e7d4-a8dac864c269"
      },
      "source": [
        "acc = history.history['accuracy']\n",
        "val_acc = history.history['val_accuracy']\n",
        "loss = history.history['loss']\n",
        "val_loss = history.history['val_loss']\n",
        "\n",
        "epochs = range(len(acc))\n",
        "\n",
        "plt.plot(epochs, acc, 'r', label='Training Accuracy')\n",
        "plt.plot(epochs, val_acc, 'b', label='Validation Accuracy')\n",
        "plt.title('Training & Validation Accuracy')\n",
        "plt.legend(loc=0)\n",
        "plt.figure()\n",
        "plt.show()"
      ],
      "execution_count": 35,
      "outputs": [
        {
          "output_type": "display_data",
          "data": {
            "image/png": "[encoded data removed]",
            "text/plain": [
              "<Figure size 432x288 with 1 Axes>"
            ]
          },
          "metadata": {
            "tags": [],
            "needs_background": "light"
          }
        },
        {
          "output_type": "display_data",
          "data": {
            "text/plain": [
              "<Figure size 432x288 with 0 Axes>"
            ]
          },
          "metadata": {
            "tags": []
          }
        }
      ]
    }
  ]
}