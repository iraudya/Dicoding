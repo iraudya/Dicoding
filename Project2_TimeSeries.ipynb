{
  "nbformat": 4,
  "nbformat_minor": 0,
  "metadata": {
    "colab": {
      "name": "Project2-TimeSeries.ipynb",
      "provenance": [],
      "toc_visible": true
    },
    "kernelspec": {
      "name": "python3",
      "display_name": "Python 3"
    },
    "language_info": {
      "name": "python"
    }
  },
  "cells": [
    {
      "cell_type": "markdown",
      "metadata": {
        "id": "JBlSRBcmzACu"
      },
      "source": [
        "# Profile & Project Details"
      ]
    },
    {
      "cell_type": "markdown",
      "metadata": {
        "id": "pYjRZsBE0L1k"
      },
      "source": [
        "1.   Name: Iva Raudyatuzzahra\n",
        "2.   Email : ivaraudya@gmail.com\n",
        "3.   Project: Netflix Closing Stock Price Prediction Model\n",
        "4.   Dataset: https://www.kaggle.com/aayushmishra1512/netflix-stock-data/code\n",
        "\n"
      ]
    },
    {
      "cell_type": "markdown",
      "metadata": {
        "id": "GXnOqwrkzCJ2"
      },
      "source": [
        "# Exploratory Data Analysis & Preprocessing"
      ]
    },
    {
      "cell_type": "markdown",
      "metadata": {
        "id": "OHlD1d1G7cDt"
      },
      "source": [
        "File Loading"
      ]
    },
    {
      "cell_type": "code",
      "metadata": {
        "id": "CyPG_aUByvll"
      },
      "source": [
        "import zipfile\n",
        "\n",
        "local_zip = '/content/drive/MyDrive/Datasets/netflix-stock.zip'\n",
        "zip_extract = zipfile.ZipFile(local_zip, 'r')\n",
        "zip_extract.extractall('/content/')\n",
        "zip_extract.close()"
      ],
      "execution_count": 2,
      "outputs": []
    },
    {
      "cell_type": "markdown",
      "metadata": {
        "id": "7tvvMWBX7x7G"
      },
      "source": [
        "Importing Libraries"
      ]
    },
    {
      "cell_type": "code",
      "metadata": {
        "id": "0_G1QRkh7XqS"
      },
      "source": [
        "import numpy as np\n",
        "import pandas as pd\n",
        "from keras.layers import Dense, LSTM\n",
        "import matplotlib.pyplot as plt\n",
        "import tensorflow as tf\n",
        "from sklearn.preprocessing import MinMaxScaler"
      ],
      "execution_count": 3,
      "outputs": []
    },
    {
      "cell_type": "markdown",
      "metadata": {
        "id": "xRH6SZ7P8Glj"
      },
      "source": [
        "Data Reading"
      ]
    },
    {
      "cell_type": "code",
      "metadata": {
        "colab": {
          "base_uri": "https://localhost:8080/"
        },
        "id": "2uANpBLht4lW",
        "outputId": "56675a5b-0953-4a94-de59-ddf9eb2aa97f"
      },
      "source": [
        "df = pd.read_csv('/content/NFLX.csv')\n",
        "df = df.sort_values('Date')\n",
        "df.info()"
      ],
      "execution_count": 4,
      "outputs": [
        {
          "output_type": "stream",
          "text": [
            "<class 'pandas.core.frame.DataFrame'>\n",
            "Int64Index: 4581 entries, 0 to 4580\n",
            "Data columns (total 7 columns):\n",
            " #   Column     Non-Null Count  Dtype  \n",
            "---  ------     --------------  -----  \n",
            " 0   Date       4581 non-null   object \n",
            " 1   Open       4581 non-null   float64\n",
            " 2   High       4581 non-null   float64\n",
            " 3   Low        4581 non-null   float64\n",
            " 4   Close      4581 non-null   float64\n",
            " 5   Adj Close  4581 non-null   float64\n",
            " 6   Volume     4581 non-null   int64  \n",
            "dtypes: float64(5), int64(1), object(1)\n",
            "memory usage: 286.3+ KB\n"
          ],
          "name": "stdout"
        }
      ]
    },
    {
      "cell_type": "markdown",
      "metadata": {
        "id": "N_VnWqAF9s92"
      },
      "source": [
        "Missing Values Checking"
      ]
    },
    {
      "cell_type": "code",
      "metadata": {
        "colab": {
          "base_uri": "https://localhost:8080/"
        },
        "id": "0nxgjj577Xsu",
        "outputId": "cfd0c984-63e7-4797-b822-45b65d1d2aa9"
      },
      "source": [
        "df.isnull().sum()"
      ],
      "execution_count": 5,
      "outputs": [
        {
          "output_type": "execute_result",
          "data": {
            "text/plain": [
              "Date         0\n",
              "Open         0\n",
              "High         0\n",
              "Low          0\n",
              "Close        0\n",
              "Adj Close    0\n",
              "Volume       0\n",
              "dtype: int64"
            ]
          },
          "metadata": {
            "tags": []
          },
          "execution_count": 5
        }
      ]
    },
    {
      "cell_type": "markdown",
      "metadata": {
        "id": "QvyOuaNTCJ2c"
      },
      "source": [
        "Drop Adj Close Feature"
      ]
    },
    {
      "cell_type": "code",
      "metadata": {
        "colab": {
          "base_uri": "https://localhost:8080/",
          "height": 80
        },
        "id": "Plk2DQBaCKJh",
        "outputId": "8a31dbbf-ba0e-467e-c220-7dcc6f53119b"
      },
      "source": [
        "df.drop(['Adj Close'], axis=1, inplace=True)\n",
        "df.sample()"
      ],
      "execution_count": 6,
      "outputs": [
        {
          "output_type": "execute_result",
          "data": {
            "text/html": [
              "<div>\n",
              "<style scoped>\n",
              "    .dataframe tbody tr th:only-of-type {\n",
              "        vertical-align: middle;\n",
              "    }\n",
              "\n",
              "    .dataframe tbody tr th {\n",
              "        vertical-align: top;\n",
              "    }\n",
              "\n",
              "    .dataframe thead th {\n",
              "        text-align: right;\n",
              "    }\n",
              "</style>\n",
              "<table border=\"1\" class=\"dataframe\">\n",
              "  <thead>\n",
              "    <tr style=\"text-align: right;\">\n",
              "      <th></th>\n",
              "      <th>Date</th>\n",
              "      <th>Open</th>\n",
              "      <th>High</th>\n",
              "      <th>Low</th>\n",
              "      <th>Close</th>\n",
              "      <th>Volume</th>\n",
              "    </tr>\n",
              "  </thead>\n",
              "  <tbody>\n",
              "    <tr>\n",
              "      <th>2299</th>\n",
              "      <td>2011-07-11</td>\n",
              "      <td>42.118572</td>\n",
              "      <td>43.07143</td>\n",
              "      <td>40.985714</td>\n",
              "      <td>41.534286</td>\n",
              "      <td>36917300</td>\n",
              "    </tr>\n",
              "  </tbody>\n",
              "</table>\n",
              "</div>"
            ],
            "text/plain": [
              "            Date       Open      High        Low      Close    Volume\n",
              "2299  2011-07-11  42.118572  43.07143  40.985714  41.534286  36917300"
            ]
          },
          "metadata": {
            "tags": []
          },
          "execution_count": 6
        }
      ]
    },
    {
      "cell_type": "markdown",
      "metadata": {
        "id": "dSQLMrP--0Ob"
      },
      "source": [
        "Data Visualization"
      ]
    },
    {
      "cell_type": "code",
      "metadata": {
        "colab": {
          "base_uri": "https://localhost:8080/",
          "height": 350
        },
        "id": "OxvAwyWGHjSn",
        "outputId": "e6c41ec4-52b2-4a70-e853-6b11922bfb78"
      },
      "source": [
        "plt.figure(figsize=(15, 5));\n",
        "plt.plot(df.Open.values, color='red', label='open')\n",
        "plt.plot(df.Close.values, color='green', label='close')\n",
        "plt.plot(df.Low.values, color='blue', label='low')\n",
        "plt.plot(df.High.values, color='black', label='high')\n",
        "\n",
        "plt.title('Stock Prices vs Date')\n",
        "plt.xlabel('Date')\n",
        "plt.ylabel('Price')\n",
        "plt.legend(loc='upper left')\n",
        "plt.show()"
      ],
      "execution_count": 7,
      "outputs": [
        {
          "output_type": "display_data",
          "data": {
            "image/png": "[encoded data removed]",
            "text/plain": [
              "<Figure size 1080x360 with 1 Axes>"
            ]
          },
          "metadata": {
            "tags": [],
            "needs_background": "light"
          }
        }
      ]
    },
    {
      "cell_type": "markdown",
      "metadata": {
        "id": "uYBzCi38kxST"
      },
      "source": [
        "Create New Dataframe"
      ]
    },
    {
      "cell_type": "code",
      "metadata": {
        "colab": {
          "base_uri": "https://localhost:8080/",
          "height": 111
        },
        "id": "o36PVLBVREYZ",
        "outputId": "fd654d66-8e62-4cd0-fed5-68b31b1240a0"
      },
      "source": [
        "df_final = df.copy()\n",
        "column_list = ['Date','Close']\n",
        "df_final = df_final[column_list]\n",
        "df_final['Date'] = pd.to_datetime(df_final['Date'])\n",
        "df_final = df_final.set_index('Date')\n",
        "\n",
        "df_final.sample()"
      ],
      "execution_count": 8,
      "outputs": [
        {
          "output_type": "execute_result",
          "data": {
            "text/html": [
              "<div>\n",
              "<style scoped>\n",
              "    .dataframe tbody tr th:only-of-type {\n",
              "        vertical-align: middle;\n",
              "    }\n",
              "\n",
              "    .dataframe tbody tr th {\n",
              "        vertical-align: top;\n",
              "    }\n",
              "\n",
              "    .dataframe thead th {\n",
              "        text-align: right;\n",
              "    }\n",
              "</style>\n",
              "<table border=\"1\" class=\"dataframe\">\n",
              "  <thead>\n",
              "    <tr style=\"text-align: right;\">\n",
              "      <th></th>\n",
              "      <th>Close</th>\n",
              "    </tr>\n",
              "    <tr>\n",
              "      <th>Date</th>\n",
              "      <th></th>\n",
              "    </tr>\n",
              "  </thead>\n",
              "  <tbody>\n",
              "    <tr>\n",
              "      <th>2018-12-12</th>\n",
              "      <td>274.880005</td>\n",
              "    </tr>\n",
              "  </tbody>\n",
              "</table>\n",
              "</div>"
            ],
            "text/plain": [
              "                 Close\n",
              "Date                  \n",
              "2018-12-12  274.880005"
            ]
          },
          "metadata": {
            "tags": []
          },
          "execution_count": 8
        }
      ]
    },
    {
      "cell_type": "code",
      "metadata": {
        "colab": {
          "base_uri": "https://localhost:8080/"
        },
        "id": "2oGuOxf1puKv",
        "outputId": "d5bcaaac-e410-4942-b0d5-a899e124a950"
      },
      "source": [
        "df_final.info()"
      ],
      "execution_count": 9,
      "outputs": [
        {
          "output_type": "stream",
          "text": [
            "<class 'pandas.core.frame.DataFrame'>\n",
            "DatetimeIndex: 4581 entries, 2002-05-23 to 2020-08-03\n",
            "Data columns (total 1 columns):\n",
            " #   Column  Non-Null Count  Dtype  \n",
            "---  ------  --------------  -----  \n",
            " 0   Close   4581 non-null   float64\n",
            "dtypes: float64(1)\n",
            "memory usage: 71.6 KB\n"
          ],
          "name": "stdout"
        }
      ]
    },
    {
      "cell_type": "markdown",
      "metadata": {
        "id": "dsplV5wI_f7r"
      },
      "source": [
        "Splitting Data"
      ]
    },
    {
      "cell_type": "code",
      "metadata": {
        "colab": {
          "base_uri": "https://localhost:8080/"
        },
        "id": "Uq_yzkRB93w1",
        "outputId": "73551f53-14ac-4c14-d59b-0faf66136d25"
      },
      "source": [
        "X = df_final.values\n",
        "train_size = int(len(X) * 0.80)\n",
        "train, test = X[0:train_size], X[train_size:len(X)]\n",
        "print('Observations: %d' % (len(X)))\n",
        "print('Training Observations: %d' % (len(train)))\n",
        "print('Testing Observations: %d' % (len(test)))"
      ],
      "execution_count": 49,
      "outputs": [
        {
          "output_type": "stream",
          "text": [
            "Observations: 4581\n",
            "Training Observations: 3664\n",
            "Testing Observations: 917\n"
          ],
          "name": "stdout"
        }
      ]
    },
    {
      "cell_type": "code",
      "metadata": {
        "colab": {
          "base_uri": "https://localhost:8080/",
          "height": 442
        },
        "id": "cBj5gec9siFc",
        "outputId": "f3287c48-cc62-458e-8bb9-22d6d1b2d1c3"
      },
      "source": [
        "plt.figure(figsize = (15,7))\n",
        "plt.plot(range(df_final.shape[0]),df_final,color='cyan', label='Test Data')\n",
        "plt.plot(range(train.shape[0]),train,color='blue',label='Train Data')\n",
        "plt.xlabel('Date')\n",
        "plt.ylabel('Close Price')\n",
        "plt.legend(fontsize=18)\n",
        "plt.show()"
      ],
      "execution_count": 50,
      "outputs": [
        {
          "output_type": "display_data",
          "data": {
            "image/png": "[encoded data removed]",
            "text/plain": [
              "<Figure size 1080x504 with 1 Axes>"
            ]
          },
          "metadata": {
            "tags": [],
            "needs_background": "light"
          }
        }
      ]
    },
    {
      "cell_type": "markdown",
      "metadata": {
        "id": "tb-lgwjizCqU"
      },
      "source": [
        "# Model Training"
      ]
    },
    {
      "cell_type": "markdown",
      "metadata": {
        "id": "XOjC-apJuwrK"
      },
      "source": [
        "Data Normalization"
      ]
    },
    {
      "cell_type": "code",
      "metadata": {
        "colab": {
          "base_uri": "https://localhost:8080/"
        },
        "id": "7qLdysVjcVJE",
        "outputId": "935586e5-2873-4c42-d2e6-a870761bb3e9"
      },
      "source": [
        "scaler = MinMaxScaler(feature_range=(0,1))\n",
        "scaled_train = scaler.fit_transform(train)\n",
        "scaled_train"
      ],
      "execution_count": 52,
      "outputs": [
        {
          "output_type": "execute_result",
          "data": {
            "text/plain": [
              "array([[0.00630813],\n",
              "       [0.00641208],\n",
              "       [0.00600722],\n",
              "       ...,\n",
              "       [0.95128575],\n",
              "       [0.95756652],\n",
              "       [0.94109862]])"
            ]
          },
          "metadata": {
            "tags": []
          },
          "execution_count": 52
        }
      ]
    },
    {
      "cell_type": "code",
      "metadata": {
        "colab": {
          "base_uri": "https://localhost:8080/"
        },
        "id": "AJLuLMk9eWq6",
        "outputId": "696217f7-ae7d-4ff6-a0a2-0d1d48de00ef"
      },
      "source": [
        "scaled_train.shape"
      ],
      "execution_count": 55,
      "outputs": [
        {
          "output_type": "execute_result",
          "data": {
            "text/plain": [
              "(3664, 1)"
            ]
          },
          "metadata": {
            "tags": []
          },
          "execution_count": 55
        }
      ]
    },
    {
      "cell_type": "code",
      "metadata": {
        "colab": {
          "base_uri": "https://localhost:8080/"
        },
        "id": "190s27aveue3",
        "outputId": "a1faf1f6-9f1d-43ef-8c8c-9fb099d891bc"
      },
      "source": [
        "train_data = scaled_train[0:train_size, :]\n",
        "x_train = []\n",
        "y_train = []\n",
        "for i in range(60, len(train_data)):\n",
        "    x_train.append(train_data[i-60:i, 0])\n",
        "    y_train.append(train_data[i, 0])\n",
        "    if i <= 61:\n",
        "        print(x_train)\n",
        "        print(y_train)\n",
        "        print()"
      ],
      "execution_count": 56,
      "outputs": [
        {
          "output_type": "stream",
          "text": [
            "[array([0.00630813, 0.00641208, 0.00600722, 0.00559689, 0.0053507 ,\n",
            "       0.005389  , 0.00578838, 0.00570631, 0.00593063, 0.00619871,\n",
            "       0.00571178, 0.00600176, 0.00597986, 0.00551483, 0.00543823,\n",
            "       0.00469964, 0.00420725, 0.00411971, 0.00443156, 0.00447533,\n",
            "       0.00464493, 0.00463946, 0.00453004, 0.00471605, 0.00437137,\n",
            "       0.00479812, 0.00501696, 0.00612759, 0.00644491, 0.00692089,\n",
            "       0.00614947, 0.00603458, 0.00605646, 0.00686618, 0.00639567,\n",
            "       0.0058978 , 0.00577197, 0.00548747, 0.00594704, 0.00602911,\n",
            "       0.00611117, 0.00592516, 0.00567896, 0.00508262, 0.0038188 ,\n",
            "       0.0038571 , 0.00414707, 0.00444797, 0.00397199, 0.00310209,\n",
            "       0.00308021, 0.00297078, 0.00322245, 0.00324434, 0.00317322,\n",
            "       0.00294343, 0.00306379, 0.00352883, 0.00390634, 0.00413612])]\n",
            "[0.004666814995083838]\n",
            "\n",
            "[array([0.00630813, 0.00641208, 0.00600722, 0.00559689, 0.0053507 ,\n",
            "       0.005389  , 0.00578838, 0.00570631, 0.00593063, 0.00619871,\n",
            "       0.00571178, 0.00600176, 0.00597986, 0.00551483, 0.00543823,\n",
            "       0.00469964, 0.00420725, 0.00411971, 0.00443156, 0.00447533,\n",
            "       0.00464493, 0.00463946, 0.00453004, 0.00471605, 0.00437137,\n",
            "       0.00479812, 0.00501696, 0.00612759, 0.00644491, 0.00692089,\n",
            "       0.00614947, 0.00603458, 0.00605646, 0.00686618, 0.00639567,\n",
            "       0.0058978 , 0.00577197, 0.00548747, 0.00594704, 0.00602911,\n",
            "       0.00611117, 0.00592516, 0.00567896, 0.00508262, 0.0038188 ,\n",
            "       0.0038571 , 0.00414707, 0.00444797, 0.00397199, 0.00310209,\n",
            "       0.00308021, 0.00297078, 0.00322245, 0.00324434, 0.00317322,\n",
            "       0.00294343, 0.00306379, 0.00352883, 0.00390634, 0.00413612]), array([0.00641208, 0.00600722, 0.00559689, 0.0053507 , 0.005389  ,\n",
            "       0.00578838, 0.00570631, 0.00593063, 0.00619871, 0.00571178,\n",
            "       0.00600176, 0.00597986, 0.00551483, 0.00543823, 0.00469964,\n",
            "       0.00420725, 0.00411971, 0.00443156, 0.00447533, 0.00464493,\n",
            "       0.00463946, 0.00453004, 0.00471605, 0.00437137, 0.00479812,\n",
            "       0.00501696, 0.00612759, 0.00644491, 0.00692089, 0.00614947,\n",
            "       0.00603458, 0.00605646, 0.00686618, 0.00639567, 0.0058978 ,\n",
            "       0.00577197, 0.00548747, 0.00594704, 0.00602911, 0.00611117,\n",
            "       0.00592516, 0.00567896, 0.00508262, 0.0038188 , 0.0038571 ,\n",
            "       0.00414707, 0.00444797, 0.00397199, 0.00310209, 0.00308021,\n",
            "       0.00297078, 0.00322245, 0.00324434, 0.00317322, 0.00294343,\n",
            "       0.00306379, 0.00352883, 0.00390634, 0.00413612, 0.00466681])]\n",
            "[0.004666814995083838, 0.004393264264007752]\n",
            "\n"
          ],
          "name": "stdout"
        }
      ]
    },
    {
      "cell_type": "code",
      "metadata": {
        "colab": {
          "base_uri": "https://localhost:8080/"
        },
        "id": "Tv9-w-XLegd5",
        "outputId": "bd16901d-5180-4608-857b-a0ee081ebcbf"
      },
      "source": [
        "x_train, y_train = np.array(x_train), np.array(y_train)\n",
        "x_train = np.reshape(x_train, (x_train.shape[0], x_train.shape[1], 1))\n",
        "x_train.shape"
      ],
      "execution_count": 57,
      "outputs": [
        {
          "output_type": "execute_result",
          "data": {
            "text/plain": [
              "(3604, 60, 1)"
            ]
          },
          "metadata": {
            "tags": []
          },
          "execution_count": 57
        }
      ]
    },
    {
      "cell_type": "markdown",
      "metadata": {
        "id": "dV4sZP9VlQkH"
      },
      "source": [
        "Define Model Architecture"
      ]
    },
    {
      "cell_type": "code",
      "metadata": {
        "colab": {
          "base_uri": "https://localhost:8080/"
        },
        "id": "RXepzbN_BWcd",
        "outputId": "57e944b0-e6c6-4abd-fc76-cc39215cdc4f"
      },
      "source": [
        "from numpy import array\n",
        "from keras.models import Sequential\n",
        "from keras.layers import LSTM\n",
        "from keras.layers import Dense\n",
        "model = tf.keras.models.Sequential([\n",
        "  tf.keras.layers.LSTM(64, input_shape= (x_train.shape[1], 1), return_sequences=True),\n",
        "  tf.keras.layers.LSTM(64),\n",
        "  tf.keras.layers.Dense(32, activation=\"relu\"),\n",
        "  tf.keras.layers.Dense(10, activation=\"relu\"),\n",
        "  tf.keras.layers.Dense(1),\n",
        "])\n",
        "\n",
        "model.summary()"
      ],
      "execution_count": 74,
      "outputs": [
        {
          "output_type": "stream",
          "text": [
            "Model: \"sequential_9\"\n",
            "_________________________________________________________________\n",
            "Layer (type)                 Output Shape              Param #   \n",
            "=================================================================\n",
            "lstm_18 (LSTM)               (None, 60, 64)            16896     \n",
            "_________________________________________________________________\n",
            "lstm_19 (LSTM)               (None, 64)                33024     \n",
            "_________________________________________________________________\n",
            "dense_27 (Dense)             (None, 32)                2080      \n",
            "_________________________________________________________________\n",
            "dense_28 (Dense)             (None, 10)                330       \n",
            "_________________________________________________________________\n",
            "dense_29 (Dense)             (None, 1)                 11        \n",
            "=================================================================\n",
            "Total params: 52,341\n",
            "Trainable params: 52,341\n",
            "Non-trainable params: 0\n",
            "_________________________________________________________________\n"
          ],
          "name": "stdout"
        }
      ]
    },
    {
      "cell_type": "code",
      "metadata": {
        "id": "RXFuFkvy8cxP"
      },
      "source": [
        "class callbacks_now(tf.keras.callbacks.Callback):\n",
        "  def on_epoch_end(self, epoch, logs={}):\n",
        "    if logs.get('mae') <= 0.1:\n",
        "      print('Mean Absolute Error < 10%, training has been stopped.')\n",
        "      self.model.stop_training = True"
      ],
      "execution_count": 75,
      "outputs": []
    },
    {
      "cell_type": "markdown",
      "metadata": {
        "id": "cxQCDrEdlY_c"
      },
      "source": [
        "Train The Model"
      ]
    },
    {
      "cell_type": "code",
      "metadata": {
        "id": "Sg_XNF84uFMN",
        "colab": {
          "base_uri": "https://localhost:8080/"
        },
        "outputId": "07c7197d-8d1f-491a-e524-69e593c942c6"
      },
      "source": [
        "optimizer = tf.keras.optimizers.SGD(learning_rate=1.0000e-04, momentum=0.9)\n",
        "model.compile(loss=tf.keras.losses.Huber(),\n",
        "              optimizer=optimizer,\n",
        "              metrics=[\"mae\"])\n",
        "history = model.fit(x_train, y_train, batch_size=64, epochs=100,  callbacks = [callbacks_now()])"
      ],
      "execution_count": 76,
      "outputs": [
        {
          "output_type": "stream",
          "text": [
            "Epoch 1/100\n",
            "57/57 [==============================] - 8s 83ms/step - loss: 0.0401 - mae: 0.1643\n",
            "Epoch 2/100\n",
            "57/57 [==============================] - 5s 82ms/step - loss: 0.0350 - mae: 0.1510\n",
            "Epoch 3/100\n",
            "57/57 [==============================] - 5s 83ms/step - loss: 0.0313 - mae: 0.1495\n",
            "Epoch 4/100\n",
            "57/57 [==============================] - 5s 82ms/step - loss: 0.0289 - mae: 0.1508\n",
            "Epoch 5/100\n",
            "57/57 [==============================] - 5s 83ms/step - loss: 0.0272 - mae: 0.1529\n",
            "Epoch 6/100\n",
            "57/57 [==============================] - 5s 81ms/step - loss: 0.0259 - mae: 0.1551\n",
            "Epoch 7/100\n",
            "57/57 [==============================] - 5s 82ms/step - loss: 0.0250 - mae: 0.1571\n",
            "Epoch 8/100\n",
            "57/57 [==============================] - 5s 82ms/step - loss: 0.0244 - mae: 0.1588\n",
            "Epoch 9/100\n",
            "57/57 [==============================] - 5s 83ms/step - loss: 0.0239 - mae: 0.1600\n",
            "Epoch 10/100\n",
            "57/57 [==============================] - 5s 82ms/step - loss: 0.0235 - mae: 0.1613\n",
            "Epoch 11/100\n",
            "57/57 [==============================] - 5s 83ms/step - loss: 0.0231 - mae: 0.1619\n",
            "Epoch 12/100\n",
            "57/57 [==============================] - 5s 82ms/step - loss: 0.0228 - mae: 0.1621\n",
            "Epoch 13/100\n",
            "57/57 [==============================] - 5s 81ms/step - loss: 0.0225 - mae: 0.1624\n",
            "Epoch 14/100\n",
            "57/57 [==============================] - 5s 82ms/step - loss: 0.0222 - mae: 0.1623\n",
            "Epoch 15/100\n",
            "57/57 [==============================] - 5s 82ms/step - loss: 0.0219 - mae: 0.1621\n",
            "Epoch 16/100\n",
            "57/57 [==============================] - 5s 82ms/step - loss: 0.0217 - mae: 0.1616\n",
            "Epoch 17/100\n",
            "57/57 [==============================] - 5s 81ms/step - loss: 0.0214 - mae: 0.1612\n",
            "Epoch 18/100\n",
            "57/57 [==============================] - 5s 82ms/step - loss: 0.0212 - mae: 0.1606\n",
            "Epoch 19/100\n",
            "57/57 [==============================] - 5s 82ms/step - loss: 0.0209 - mae: 0.1598\n",
            "Epoch 20/100\n",
            "57/57 [==============================] - 5s 83ms/step - loss: 0.0207 - mae: 0.1591\n",
            "Epoch 21/100\n",
            "57/57 [==============================] - 5s 82ms/step - loss: 0.0204 - mae: 0.1582\n",
            "Epoch 22/100\n",
            "57/57 [==============================] - 5s 84ms/step - loss: 0.0202 - mae: 0.1575\n",
            "Epoch 23/100\n",
            "57/57 [==============================] - 5s 82ms/step - loss: 0.0199 - mae: 0.1567\n",
            "Epoch 24/100\n",
            "57/57 [==============================] - 5s 82ms/step - loss: 0.0197 - mae: 0.1558\n",
            "Epoch 25/100\n",
            "57/57 [==============================] - 5s 82ms/step - loss: 0.0194 - mae: 0.1551\n",
            "Epoch 26/100\n",
            "57/57 [==============================] - 5s 83ms/step - loss: 0.0192 - mae: 0.1541\n",
            "Epoch 27/100\n",
            "57/57 [==============================] - 5s 82ms/step - loss: 0.0189 - mae: 0.1532\n",
            "Epoch 28/100\n",
            "57/57 [==============================] - 5s 83ms/step - loss: 0.0187 - mae: 0.1524\n",
            "Epoch 29/100\n",
            "57/57 [==============================] - 5s 82ms/step - loss: 0.0184 - mae: 0.1514\n",
            "Epoch 30/100\n",
            "57/57 [==============================] - 5s 82ms/step - loss: 0.0182 - mae: 0.1505\n",
            "Epoch 31/100\n",
            "57/57 [==============================] - 5s 82ms/step - loss: 0.0180 - mae: 0.1495\n",
            "Epoch 32/100\n",
            "57/57 [==============================] - 5s 82ms/step - loss: 0.0177 - mae: 0.1486\n",
            "Epoch 33/100\n",
            "57/57 [==============================] - 5s 84ms/step - loss: 0.0175 - mae: 0.1476\n",
            "Epoch 34/100\n",
            "57/57 [==============================] - 5s 82ms/step - loss: 0.0172 - mae: 0.1465\n",
            "Epoch 35/100\n",
            "57/57 [==============================] - 5s 82ms/step - loss: 0.0170 - mae: 0.1454\n",
            "Epoch 36/100\n",
            "57/57 [==============================] - 5s 84ms/step - loss: 0.0167 - mae: 0.1445\n",
            "Epoch 37/100\n",
            "57/57 [==============================] - 5s 82ms/step - loss: 0.0165 - mae: 0.1433\n",
            "Epoch 38/100\n",
            "57/57 [==============================] - 5s 82ms/step - loss: 0.0163 - mae: 0.1422\n",
            "Epoch 39/100\n",
            "57/57 [==============================] - 5s 82ms/step - loss: 0.0160 - mae: 0.1413\n",
            "Epoch 40/100\n",
            "57/57 [==============================] - 5s 83ms/step - loss: 0.0158 - mae: 0.1402\n",
            "Epoch 41/100\n",
            "57/57 [==============================] - 5s 82ms/step - loss: 0.0155 - mae: 0.1391\n",
            "Epoch 42/100\n",
            "57/57 [==============================] - 5s 83ms/step - loss: 0.0153 - mae: 0.1379\n",
            "Epoch 43/100\n",
            "57/57 [==============================] - 5s 83ms/step - loss: 0.0150 - mae: 0.1370\n",
            "Epoch 44/100\n",
            "57/57 [==============================] - 5s 82ms/step - loss: 0.0148 - mae: 0.1357\n",
            "Epoch 45/100\n",
            "57/57 [==============================] - 5s 83ms/step - loss: 0.0145 - mae: 0.1345\n",
            "Epoch 46/100\n",
            "57/57 [==============================] - 5s 82ms/step - loss: 0.0143 - mae: 0.1335\n",
            "Epoch 47/100\n",
            "57/57 [==============================] - 5s 83ms/step - loss: 0.0140 - mae: 0.1322\n",
            "Epoch 48/100\n",
            "57/57 [==============================] - 5s 82ms/step - loss: 0.0138 - mae: 0.1311\n",
            "Epoch 49/100\n",
            "57/57 [==============================] - 5s 82ms/step - loss: 0.0135 - mae: 0.1299\n",
            "Epoch 50/100\n",
            "57/57 [==============================] - 5s 83ms/step - loss: 0.0133 - mae: 0.1288\n",
            "Epoch 51/100\n",
            "57/57 [==============================] - 5s 82ms/step - loss: 0.0131 - mae: 0.1276\n",
            "Epoch 52/100\n",
            "57/57 [==============================] - 5s 84ms/step - loss: 0.0128 - mae: 0.1263\n",
            "Epoch 53/100\n",
            "57/57 [==============================] - 5s 82ms/step - loss: 0.0126 - mae: 0.1251\n",
            "Epoch 54/100\n",
            "57/57 [==============================] - 5s 83ms/step - loss: 0.0123 - mae: 0.1238\n",
            "Epoch 55/100\n",
            "57/57 [==============================] - 5s 83ms/step - loss: 0.0121 - mae: 0.1226\n",
            "Epoch 56/100\n",
            "57/57 [==============================] - 5s 83ms/step - loss: 0.0118 - mae: 0.1212\n",
            "Epoch 57/100\n",
            "57/57 [==============================] - 5s 82ms/step - loss: 0.0116 - mae: 0.1201\n",
            "Epoch 58/100\n",
            "57/57 [==============================] - 5s 82ms/step - loss: 0.0113 - mae: 0.1188\n",
            "Epoch 59/100\n",
            "57/57 [==============================] - 5s 83ms/step - loss: 0.0111 - mae: 0.1173\n",
            "Epoch 60/100\n",
            "57/57 [==============================] - 5s 84ms/step - loss: 0.0109 - mae: 0.1160\n",
            "Epoch 61/100\n",
            "57/57 [==============================] - 5s 83ms/step - loss: 0.0106 - mae: 0.1148\n",
            "Epoch 62/100\n",
            "57/57 [==============================] - 5s 82ms/step - loss: 0.0104 - mae: 0.1135\n",
            "Epoch 63/100\n",
            "57/57 [==============================] - 5s 83ms/step - loss: 0.0101 - mae: 0.1121\n",
            "Epoch 64/100\n",
            "57/57 [==============================] - 5s 83ms/step - loss: 0.0099 - mae: 0.1107\n",
            "Epoch 65/100\n",
            "57/57 [==============================] - 5s 82ms/step - loss: 0.0097 - mae: 0.1093\n",
            "Epoch 66/100\n",
            "57/57 [==============================] - 5s 83ms/step - loss: 0.0094 - mae: 0.1080\n",
            "Epoch 67/100\n",
            "57/57 [==============================] - 5s 81ms/step - loss: 0.0092 - mae: 0.1065\n",
            "Epoch 68/100\n",
            "57/57 [==============================] - 5s 83ms/step - loss: 0.0090 - mae: 0.1052\n",
            "Epoch 69/100\n",
            "57/57 [==============================] - 5s 83ms/step - loss: 0.0088 - mae: 0.1038\n",
            "Epoch 70/100\n",
            "57/57 [==============================] - 5s 83ms/step - loss: 0.0085 - mae: 0.1024\n",
            "Epoch 71/100\n",
            "57/57 [==============================] - 5s 84ms/step - loss: 0.0083 - mae: 0.1011\n",
            "Epoch 72/100\n",
            "57/57 [==============================] - 5s 84ms/step - loss: 0.0081 - mae: 0.0997\n",
            "Mean Absolute Error < 10%, training has been stopped.\n"
          ],
          "name": "stdout"
        }
      ]
    },
    {
      "cell_type": "markdown",
      "metadata": {
        "id": "PCiNhn65l8UR"
      },
      "source": [
        "Plot Loss"
      ]
    },
    {
      "cell_type": "code",
      "metadata": {
        "colab": {
          "base_uri": "https://localhost:8080/",
          "height": 279
        },
        "id": "6jzSw9DVt4PB",
        "outputId": "0119c253-21fe-4b4b-c841-17326ae8a6a2"
      },
      "source": [
        "training_loss = history.history['loss']\n",
        "\n",
        "epoch_count = range(1, len(training_loss) + 1)\n",
        "\n",
        "plt.plot(epoch_count, training_loss, 'red')\n",
        "plt.xlabel('Epoch')\n",
        "plt.ylabel('Loss')\n",
        "plt.show();"
      ],
      "execution_count": 117,
      "outputs": [
        {
          "output_type": "display_data",
          "data": {
            "image/png": "[encoded data removed]",
            "text/plain": [
              "<Figure size 432x288 with 1 Axes>"
            ]
          },
          "metadata": {
            "tags": [],
            "needs_background": "light"
          }
        }
      ]
    }
  ]
}